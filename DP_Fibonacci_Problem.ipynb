{
  "nbformat": 4,
  "nbformat_minor": 0,
  "metadata": {
    "colab": {
      "provenance": []
    },
    "kernelspec": {
      "name": "python3",
      "display_name": "Python 3"
    },
    "language_info": {
      "name": "python"
    }
  },
  "cells": [
    {
      "cell_type": "markdown",
      "source": [
      ],
      "metadata": {
        "id": "mYQwqJPo3riV"
      }
    },
    {
      "cell_type": "markdown",
      "source": [
        "Fibonacci problem"
      ],
      "metadata": {
        "id": "Z-_sHF153zJ2"
      }
    },
    {
      "cell_type": "code",
      "execution_count": 11,
      "metadata": {
        "colab": {
          "base_uri": "https://localhost:8080/"
        },
        "id": "Zcn1_X2DS4xH",
        "outputId": "16c51550-6543-4bf4-e5be-07d2bac88450"
      },
      "outputs": [
        {
          "output_type": "stream",
          "name": "stdout",
          "text": [
            "8\n"
          ]
        }
      ],
      "source": [
        "def fib(n):\n",
        "  if n<=2:\n",
        "    result = 1\n",
        "  else:\n",
        "    result = fib(n-1) + fib(n-2)\n",
        "  return result\n",
        "\n",
        "print(fib(6))"
      ]
    },
    {
      "cell_type": "markdown",
      "source": [
        "**Fibonacci problem dengan konsep Dynamic Programming** untuk mengoptimmalkan algoritma dengan menyimpan hasil rekursif ke dalam sebuah array atau melakukan proses memoization\n"
      ],
      "metadata": {
        "id": "57CgBXx-32wM"
      }
    },
    {
      "cell_type": "code",
      "source": [
        "memo = {}\n",
        "\n",
        "def fib_dp(n):\n",
        "  if n in memo:\n",
        "    return memo[n]\n",
        "  if n<=2:\n",
        "    result=1\n",
        "  else:\n",
        "    result = fib_dp(n-1) + fib_dp(n-2)\n",
        "  memo[n] = result\n",
        "  return result\n",
        "\n",
        "print(fib_dp(6))"
      ],
      "metadata": {
        "colab": {
          "base_uri": "https://localhost:8080/"
        },
        "id": "-u7ikKXnW_vd",
        "outputId": "f83eb5eb-59e7-4345-e2df-8e5b8370e041"
      },
      "execution_count": 12,
      "outputs": [
        {
          "output_type": "stream",
          "name": "stdout",
          "text": [
            "8\n"
          ]
        }
      ]
    },
    {
      "cell_type": "markdown",
      "source": [
        "## Analisis Perbandingan Algoritma\n",
        "- membandingkan algoritma dari segi waktu eksekusi bedasarkan input n"
      ],
      "metadata": {
        "id": "mm_uAZnf4khz"
      }
    },
    {
      "cell_type": "code",
      "source": [
        "import time\n",
        "\n",
        "# Fungsi Fibonacci rekursif\n",
        "def fib(n):\n",
        "    if n <= 2:\n",
        "        return 1\n",
        "    else:\n",
        "        return fib(n - 1) + fib(n - 2)\n",
        "\n",
        "# Fungsi Fibonacci dengan memoization\n",
        "memo = {}\n",
        "def fib_dp(n):\n",
        "    if n in memo:\n",
        "        return memo[n]\n",
        "    if n <= 2:\n",
        "        result = 1\n",
        "    else:\n",
        "        result = fib_dp(n - 1) + fib_dp(n - 2)\n",
        "    memo[n] = result\n",
        "    return result\n",
        "\n",
        "# Menghitung waktu eksekusi\n",
        "def analyze_execution_time(func, n):\n",
        "    start_time = time.time()\n",
        "    result = func(n)\n",
        "    end_time = time.time()\n",
        "    execution_time = end_time - start_time\n",
        "    return result, execution_time\n",
        "\n",
        "# Uji kedua fungsi dengan nilai n tertentu\n",
        "n = 40\n",
        "result1, time1 = analyze_execution_time(fib, n)\n",
        "result2, time2 = analyze_execution_time(fib_dp, n)\n",
        "\n",
        "# Output hasil\n",
        "print(f\"Fib({n}) Hasil = {result1}, Waktu Eksekusi = {time1:.5f} detik\")\n",
        "print(f\"Fib_with_DP({n}) Hasil = {result2}, Waktu Eksekusi = {time2:.5f} detik\")\n"
      ],
      "metadata": {
        "colab": {
          "base_uri": "https://localhost:8080/"
        },
        "id": "4E_cEFXp5yny",
        "outputId": "29ff8faf-cbb0-4ee1-b751-4be3bbca6b24"
      },
      "execution_count": 20,
      "outputs": [
        {
          "output_type": "stream",
          "name": "stdout",
          "text": [
            "Fib(40) Hasil = 102334155, Waktu Eksekusi = 28.40083 detik\n",
            "Fib_with_DP(40) Hasil = 102334155, Waktu Eksekusi = 0.00003 detik\n"
          ]
        }
      ]
    }
  ]
}
